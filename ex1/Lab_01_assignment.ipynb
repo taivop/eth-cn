{
 "cells": [
  {
   "cell_type": "markdown",
   "metadata": {},
   "source": [
    "# Lab 01 - Analyzing and Visualizing Networks using igraph"
   ]
  },
  {
   "cell_type": "markdown",
   "metadata": {},
   "source": [
    "There are many different software packages for the visualisation and analysis of complex networks. Examples include `gephi`, `Cytoscape`, `pajek`, `NodeXL`, `cuttlefish`, `networkx` or `graph-tool`. In this course, we will be using `igraph`, an open-source software package for the modelling, analysis and visualisation of complex networks. It is not only widely-used in network analysis, it also has a rather simple interface, is available for all major operating systems and can be used from within a variety of programming languages, including `C/C++`, `R` and `python`.\n",
    "\n",
    "In the labs accompanying this course, we will cover the use of `igraph` from `python`, an easy-to-learn scripting language that is widely used in the development of web applications and for data analysis and visualisation tasks. The use of `igraph`'s `python` frontend will provide you with a good basis not only for the analysis of complex networks, but also for learning how to use `igraph` in other languages like `R`. If you are more familiar with programming in `C/C++` or `R`, you are welcome to use these languages to solve the labs. However sample solutions will be provided in `python` only, so if you use these languages you are on your own. That having said, the mapping of `python` solutions to the language of your choice should generally be straight-forward.\n",
    "\n",
    "As we have already covered the basics of `python`, `ipython` and `igraph` in our initial tutorial, solving this lab should be straight-forward. But don't worry: future assignments will be a bit more tricky :-)\n",
    "\n",
    "As explained in the tutorial, we first need to import a couple of packages and we should define a helper function that allows us to show networks directly in `ipython`. As such, from now on we will use the following standard preamble."
   ]
  },
  {
   "cell_type": "code",
   "execution_count": 2,
   "metadata": {
    "collapsed": true
   },
   "outputs": [],
   "source": [
    "import igraph\n",
    "import numpy as np\n",
    "from IPython.display import *\n",
    "\n",
    "def displayNetwork(g, visual_style={}):\n",
    "    igraph.plot(g, \"img/temp.png\", **visual_style)\n",
    "    display(Image(filename='img/temp.png'))"
   ]
  },
  {
   "cell_type": "markdown",
   "metadata": {},
   "source": [
    "### Task 1: Basic network creation\n",
    "\n",
    "Your first task will be really simple. In the following `python` cell, you should first write some code that generates a small network with three nodes and three edges. You should then plot the network in `ipython`. "
   ]
  },
  {
   "cell_type": "code",
   "execution_count": null,
   "metadata": {
    "collapsed": false
   },
   "outputs": [],
   "source": []
  },
  {
   "cell_type": "markdown",
   "metadata": {},
   "source": [
    "The next task is a little bit more difficult. Here, you should first create an empty network with 100 nodes and then write a for-loop that adds 200 links between randomly chosen nodes. Remember that for this, you can use the `numpy.random` module from the `numpy` package. You may find the following page in `numpy`'s documentation useful: \n",
    "\n",
    "http://docs.scipy.org/doc/numpy/reference/generated/numpy.random.choice.html\n",
    "\n",
    "Plot your network once you have generated it. Re-evaluate the cell multiple times to see how the network changes. \n",
    "\n",
    "**Bonus:** When you re-generate your network, keep the layout (i.e., the node positions) fixed to better show how the links change. "
   ]
  },
  {
   "cell_type": "code",
   "execution_count": null,
   "metadata": {
    "collapsed": false
   },
   "outputs": [],
   "source": []
  },
  {
   "cell_type": "markdown",
   "metadata": {},
   "source": [
    "### Task 2: Reading and visualizing network data"
   ]
  },
  {
   "cell_type": "markdown",
   "metadata": {},
   "source": [
    "Let us now use some network data. You should have been provided with an example network file, an actual network data set that captures collaboration structures between software developers in a major Open Source Software community. The name of this file is `gentoo_810_30d.txt`. \n",
    "\n",
    "Your first task is to read the file using `igraph` and output a `summary` of the network. "
   ]
  },
  {
   "cell_type": "code",
   "execution_count": null,
   "metadata": {
    "collapsed": false
   },
   "outputs": [],
   "source": []
  },
  {
   "cell_type": "markdown",
   "metadata": {},
   "source": [
    "Now you should compute a layout, i.e., a list of coordinates at which nodes should be rendered in the visualization of the network. For this, you can use the `layout` function of `igraph` and use, for instance the *Fruchterman-Reingold* algorithm. Create a `visual_style` in which you at least customize the size of nodes, the size of edge arrows as well as node colors.\n",
    "Use the layout as well as the visual style created above to plot the network. Additionally save your plot as a `pdf` file."
   ]
  },
  {
   "cell_type": "code",
   "execution_count": null,
   "metadata": {
    "collapsed": false
   },
   "outputs": [],
   "source": []
  }
 ],
 "metadata": {
  "kernelspec": {
   "display_name": "Python 3",
   "language": "python",
   "name": "python3"
  },
  "language_info": {
   "codemirror_mode": {
    "name": "ipython",
    "version": 3
   },
   "file_extension": ".py",
   "mimetype": "text/x-python",
   "name": "python",
   "nbconvert_exporter": "python",
   "pygments_lexer": "ipython3",
   "version": "3.5.1"
  }
 },
 "nbformat": 4,
 "nbformat_minor": 0
}
